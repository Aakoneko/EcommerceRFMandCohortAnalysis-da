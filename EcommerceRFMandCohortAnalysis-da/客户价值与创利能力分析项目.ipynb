{
 "cells": [
  {
   "cell_type": "markdown",
   "id": "94426955",
   "metadata": {},
   "source": [
    "## 模块、包、及库的导入"
   ]
  },
  {
   "cell_type": "code",
   "execution_count": 60,
   "id": "7e3f4e7a",
   "metadata": {},
   "outputs": [],
   "source": [
    "import pandas as pd\n",
    "import matplotlib.pyplot as plt\n",
    "import seaborn as sns\n",
    "sns.set_style('whitegrid',{'font.sans-serif':['Arial Unicode MS','Arial']})\n",
    "from matplotlib.font_manager import FontProperties"
   ]
  },
  {
   "cell_type": "code",
   "execution_count": 56,
   "id": "1b4ccff6",
   "metadata": {},
   "outputs": [],
   "source": [
    "from warnings import filterwarnings\n",
    "filterwarnings('ignore')"
   ]
  },
  {
   "cell_type": "markdown",
   "id": "934d92b6",
   "metadata": {},
   "source": [
    "## 数据导入"
   ]
  },
  {
   "cell_type": "code",
   "execution_count": 3,
   "id": "dcb0b14b",
   "metadata": {},
   "outputs": [],
   "source": [
    "df = pd.read_csv('North_American_Superstore.csv',encoding='gbk')"
   ]
  },
  {
   "cell_type": "markdown",
   "id": "5d7199c9",
   "metadata": {},
   "source": [
    "## 数据检查 Data Inspection"
   ]
  },
  {
   "cell_type": "code",
   "execution_count": 4,
   "id": "195c64df",
   "metadata": {},
   "outputs": [
    {
     "data": {
      "text/html": [
       "<div>\n",
       "<style scoped>\n",
       "    .dataframe tbody tr th:only-of-type {\n",
       "        vertical-align: middle;\n",
       "    }\n",
       "\n",
       "    .dataframe tbody tr th {\n",
       "        vertical-align: top;\n",
       "    }\n",
       "\n",
       "    .dataframe thead th {\n",
       "        text-align: right;\n",
       "    }\n",
       "</style>\n",
       "<table border=\"1\" class=\"dataframe\">\n",
       "  <thead>\n",
       "    <tr style=\"text-align: right;\">\n",
       "      <th></th>\n",
       "      <th>Row ID</th>\n",
       "      <th>Order ID</th>\n",
       "      <th>Order Date</th>\n",
       "      <th>Ship Date</th>\n",
       "      <th>Ship Mode</th>\n",
       "      <th>Customer ID</th>\n",
       "      <th>Customer Name</th>\n",
       "      <th>Segment</th>\n",
       "      <th>Country</th>\n",
       "      <th>City</th>\n",
       "      <th>...</th>\n",
       "      <th>Postal Code</th>\n",
       "      <th>Region</th>\n",
       "      <th>Product ID</th>\n",
       "      <th>Category</th>\n",
       "      <th>Sub-Category</th>\n",
       "      <th>Product Name</th>\n",
       "      <th>Sales</th>\n",
       "      <th>Quantity</th>\n",
       "      <th>Discount</th>\n",
       "      <th>Profit</th>\n",
       "    </tr>\n",
       "  </thead>\n",
       "  <tbody>\n",
       "    <tr>\n",
       "      <th>0</th>\n",
       "      <td>7981</td>\n",
       "      <td>CA-2015-103800</td>\n",
       "      <td>2015/1/3</td>\n",
       "      <td>2015/1/7</td>\n",
       "      <td>Standard Class</td>\n",
       "      <td>DP-13000</td>\n",
       "      <td>Darren Powers</td>\n",
       "      <td>Consumer</td>\n",
       "      <td>United States</td>\n",
       "      <td>Houston</td>\n",
       "      <td>...</td>\n",
       "      <td>77095.0</td>\n",
       "      <td>Central</td>\n",
       "      <td>OFF-PA-10000174</td>\n",
       "      <td>Office Supplies</td>\n",
       "      <td>Paper</td>\n",
       "      <td>Message Book, Wirebound, Four 5 1/2\" X 4\" Form...</td>\n",
       "      <td>16.448</td>\n",
       "      <td>2</td>\n",
       "      <td>0.2</td>\n",
       "      <td>5.5512</td>\n",
       "    </tr>\n",
       "    <tr>\n",
       "      <th>1</th>\n",
       "      <td>740</td>\n",
       "      <td>CA-2015-112326</td>\n",
       "      <td>2015/1/4</td>\n",
       "      <td>2015/1/8</td>\n",
       "      <td>Standard Class</td>\n",
       "      <td>PO-19195</td>\n",
       "      <td>Phillina Ober</td>\n",
       "      <td>Home Office</td>\n",
       "      <td>United States</td>\n",
       "      <td>Naperville</td>\n",
       "      <td>...</td>\n",
       "      <td>60540.0</td>\n",
       "      <td>Central</td>\n",
       "      <td>OFF-LA-10003223</td>\n",
       "      <td>Office Supplies</td>\n",
       "      <td>Labels</td>\n",
       "      <td>Avery 508</td>\n",
       "      <td>11.784</td>\n",
       "      <td>3</td>\n",
       "      <td>0.2</td>\n",
       "      <td>4.2717</td>\n",
       "    </tr>\n",
       "    <tr>\n",
       "      <th>2</th>\n",
       "      <td>741</td>\n",
       "      <td>CA-2015-112326</td>\n",
       "      <td>2015/1/4</td>\n",
       "      <td>2015/1/8</td>\n",
       "      <td>Standard Class</td>\n",
       "      <td>PO-19195</td>\n",
       "      <td>Phillina Ober</td>\n",
       "      <td>Home Office</td>\n",
       "      <td>United States</td>\n",
       "      <td>Naperville</td>\n",
       "      <td>...</td>\n",
       "      <td>60540.0</td>\n",
       "      <td>Central</td>\n",
       "      <td>OFF-ST-10002743</td>\n",
       "      <td>Office Supplies</td>\n",
       "      <td>Storage</td>\n",
       "      <td>SAFCO Boltless Steel Shelving</td>\n",
       "      <td>272.736</td>\n",
       "      <td>3</td>\n",
       "      <td>0.2</td>\n",
       "      <td>-64.7748</td>\n",
       "    </tr>\n",
       "    <tr>\n",
       "      <th>3</th>\n",
       "      <td>742</td>\n",
       "      <td>CA-2015-112326</td>\n",
       "      <td>2015/1/4</td>\n",
       "      <td>2015/1/8</td>\n",
       "      <td>Standard Class</td>\n",
       "      <td>PO-19195</td>\n",
       "      <td>Phillina Ober</td>\n",
       "      <td>Home Office</td>\n",
       "      <td>United States</td>\n",
       "      <td>Naperville</td>\n",
       "      <td>...</td>\n",
       "      <td>60540.0</td>\n",
       "      <td>Central</td>\n",
       "      <td>OFF-BI-10004094</td>\n",
       "      <td>Office Supplies</td>\n",
       "      <td>Binders</td>\n",
       "      <td>GBC Standard Plastic Binding Systems Combs</td>\n",
       "      <td>3.540</td>\n",
       "      <td>2</td>\n",
       "      <td>0.8</td>\n",
       "      <td>-5.4870</td>\n",
       "    </tr>\n",
       "    <tr>\n",
       "      <th>4</th>\n",
       "      <td>1760</td>\n",
       "      <td>CA-2015-141817</td>\n",
       "      <td>2015/1/5</td>\n",
       "      <td>2015/1/12</td>\n",
       "      <td>Standard Class</td>\n",
       "      <td>MB-18085</td>\n",
       "      <td>Mick Brown</td>\n",
       "      <td>Consumer</td>\n",
       "      <td>United States</td>\n",
       "      <td>Philadelphia</td>\n",
       "      <td>...</td>\n",
       "      <td>19143.0</td>\n",
       "      <td>East</td>\n",
       "      <td>OFF-AR-10003478</td>\n",
       "      <td>Office Supplies</td>\n",
       "      <td>Art</td>\n",
       "      <td>Avery Hi-Liter EverBold Pen Style Fluorescent ...</td>\n",
       "      <td>19.536</td>\n",
       "      <td>3</td>\n",
       "      <td>0.2</td>\n",
       "      <td>4.8840</td>\n",
       "    </tr>\n",
       "  </tbody>\n",
       "</table>\n",
       "<p>5 rows × 21 columns</p>\n",
       "</div>"
      ],
      "text/plain": [
       "   Row ID        Order ID Order Date  Ship Date       Ship Mode Customer ID  \\\n",
       "0    7981  CA-2015-103800   2015/1/3   2015/1/7  Standard Class    DP-13000   \n",
       "1     740  CA-2015-112326   2015/1/4   2015/1/8  Standard Class    PO-19195   \n",
       "2     741  CA-2015-112326   2015/1/4   2015/1/8  Standard Class    PO-19195   \n",
       "3     742  CA-2015-112326   2015/1/4   2015/1/8  Standard Class    PO-19195   \n",
       "4    1760  CA-2015-141817   2015/1/5  2015/1/12  Standard Class    MB-18085   \n",
       "\n",
       "   Customer Name      Segment        Country          City  ... Postal Code  \\\n",
       "0  Darren Powers     Consumer  United States       Houston  ...     77095.0   \n",
       "1  Phillina Ober  Home Office  United States    Naperville  ...     60540.0   \n",
       "2  Phillina Ober  Home Office  United States    Naperville  ...     60540.0   \n",
       "3  Phillina Ober  Home Office  United States    Naperville  ...     60540.0   \n",
       "4     Mick Brown     Consumer  United States  Philadelphia  ...     19143.0   \n",
       "\n",
       "    Region       Product ID         Category Sub-Category  \\\n",
       "0  Central  OFF-PA-10000174  Office Supplies        Paper   \n",
       "1  Central  OFF-LA-10003223  Office Supplies       Labels   \n",
       "2  Central  OFF-ST-10002743  Office Supplies      Storage   \n",
       "3  Central  OFF-BI-10004094  Office Supplies      Binders   \n",
       "4     East  OFF-AR-10003478  Office Supplies          Art   \n",
       "\n",
       "                                        Product Name    Sales  Quantity  \\\n",
       "0  Message Book, Wirebound, Four 5 1/2\" X 4\" Form...   16.448         2   \n",
       "1                                          Avery 508   11.784         3   \n",
       "2                      SAFCO Boltless Steel Shelving  272.736         3   \n",
       "3         GBC Standard Plastic Binding Systems Combs    3.540         2   \n",
       "4  Avery Hi-Liter EverBold Pen Style Fluorescent ...   19.536         3   \n",
       "\n",
       "   Discount   Profit  \n",
       "0       0.2   5.5512  \n",
       "1       0.2   4.2717  \n",
       "2       0.2 -64.7748  \n",
       "3       0.8  -5.4870  \n",
       "4       0.2   4.8840  \n",
       "\n",
       "[5 rows x 21 columns]"
      ]
     },
     "execution_count": 4,
     "metadata": {},
     "output_type": "execute_result"
    }
   ],
   "source": [
    "df.head()"
   ]
  },
  {
   "cell_type": "code",
   "execution_count": 5,
   "id": "daa0a3ba",
   "metadata": {},
   "outputs": [],
   "source": [
    "#去掉column name中的空格\n",
    "df.rename(columns=lambda x:x.replace(' ',''), inplace=True)"
   ]
  },
  {
   "cell_type": "code",
   "execution_count": 6,
   "id": "7475c482",
   "metadata": {},
   "outputs": [
    {
     "data": {
      "text/html": [
       "<div>\n",
       "<style scoped>\n",
       "    .dataframe tbody tr th:only-of-type {\n",
       "        vertical-align: middle;\n",
       "    }\n",
       "\n",
       "    .dataframe tbody tr th {\n",
       "        vertical-align: top;\n",
       "    }\n",
       "\n",
       "    .dataframe thead th {\n",
       "        text-align: right;\n",
       "    }\n",
       "</style>\n",
       "<table border=\"1\" class=\"dataframe\">\n",
       "  <thead>\n",
       "    <tr style=\"text-align: right;\">\n",
       "      <th></th>\n",
       "      <th>RowID</th>\n",
       "      <th>OrderID</th>\n",
       "      <th>OrderDate</th>\n",
       "      <th>ShipDate</th>\n",
       "      <th>ShipMode</th>\n",
       "      <th>CustomerID</th>\n",
       "      <th>CustomerName</th>\n",
       "      <th>Segment</th>\n",
       "      <th>Country</th>\n",
       "      <th>City</th>\n",
       "      <th>...</th>\n",
       "      <th>PostalCode</th>\n",
       "      <th>Region</th>\n",
       "      <th>ProductID</th>\n",
       "      <th>Category</th>\n",
       "      <th>Sub-Category</th>\n",
       "      <th>ProductName</th>\n",
       "      <th>Sales</th>\n",
       "      <th>Quantity</th>\n",
       "      <th>Discount</th>\n",
       "      <th>Profit</th>\n",
       "    </tr>\n",
       "  </thead>\n",
       "  <tbody>\n",
       "    <tr>\n",
       "      <th>0</th>\n",
       "      <td>7981</td>\n",
       "      <td>CA-2015-103800</td>\n",
       "      <td>2015/1/3</td>\n",
       "      <td>2015/1/7</td>\n",
       "      <td>Standard Class</td>\n",
       "      <td>DP-13000</td>\n",
       "      <td>Darren Powers</td>\n",
       "      <td>Consumer</td>\n",
       "      <td>United States</td>\n",
       "      <td>Houston</td>\n",
       "      <td>...</td>\n",
       "      <td>77095.0</td>\n",
       "      <td>Central</td>\n",
       "      <td>OFF-PA-10000174</td>\n",
       "      <td>Office Supplies</td>\n",
       "      <td>Paper</td>\n",
       "      <td>Message Book, Wirebound, Four 5 1/2\" X 4\" Form...</td>\n",
       "      <td>16.448</td>\n",
       "      <td>2</td>\n",
       "      <td>0.2</td>\n",
       "      <td>5.5512</td>\n",
       "    </tr>\n",
       "    <tr>\n",
       "      <th>1</th>\n",
       "      <td>740</td>\n",
       "      <td>CA-2015-112326</td>\n",
       "      <td>2015/1/4</td>\n",
       "      <td>2015/1/8</td>\n",
       "      <td>Standard Class</td>\n",
       "      <td>PO-19195</td>\n",
       "      <td>Phillina Ober</td>\n",
       "      <td>Home Office</td>\n",
       "      <td>United States</td>\n",
       "      <td>Naperville</td>\n",
       "      <td>...</td>\n",
       "      <td>60540.0</td>\n",
       "      <td>Central</td>\n",
       "      <td>OFF-LA-10003223</td>\n",
       "      <td>Office Supplies</td>\n",
       "      <td>Labels</td>\n",
       "      <td>Avery 508</td>\n",
       "      <td>11.784</td>\n",
       "      <td>3</td>\n",
       "      <td>0.2</td>\n",
       "      <td>4.2717</td>\n",
       "    </tr>\n",
       "    <tr>\n",
       "      <th>2</th>\n",
       "      <td>741</td>\n",
       "      <td>CA-2015-112326</td>\n",
       "      <td>2015/1/4</td>\n",
       "      <td>2015/1/8</td>\n",
       "      <td>Standard Class</td>\n",
       "      <td>PO-19195</td>\n",
       "      <td>Phillina Ober</td>\n",
       "      <td>Home Office</td>\n",
       "      <td>United States</td>\n",
       "      <td>Naperville</td>\n",
       "      <td>...</td>\n",
       "      <td>60540.0</td>\n",
       "      <td>Central</td>\n",
       "      <td>OFF-ST-10002743</td>\n",
       "      <td>Office Supplies</td>\n",
       "      <td>Storage</td>\n",
       "      <td>SAFCO Boltless Steel Shelving</td>\n",
       "      <td>272.736</td>\n",
       "      <td>3</td>\n",
       "      <td>0.2</td>\n",
       "      <td>-64.7748</td>\n",
       "    </tr>\n",
       "    <tr>\n",
       "      <th>3</th>\n",
       "      <td>742</td>\n",
       "      <td>CA-2015-112326</td>\n",
       "      <td>2015/1/4</td>\n",
       "      <td>2015/1/8</td>\n",
       "      <td>Standard Class</td>\n",
       "      <td>PO-19195</td>\n",
       "      <td>Phillina Ober</td>\n",
       "      <td>Home Office</td>\n",
       "      <td>United States</td>\n",
       "      <td>Naperville</td>\n",
       "      <td>...</td>\n",
       "      <td>60540.0</td>\n",
       "      <td>Central</td>\n",
       "      <td>OFF-BI-10004094</td>\n",
       "      <td>Office Supplies</td>\n",
       "      <td>Binders</td>\n",
       "      <td>GBC Standard Plastic Binding Systems Combs</td>\n",
       "      <td>3.540</td>\n",
       "      <td>2</td>\n",
       "      <td>0.8</td>\n",
       "      <td>-5.4870</td>\n",
       "    </tr>\n",
       "    <tr>\n",
       "      <th>4</th>\n",
       "      <td>1760</td>\n",
       "      <td>CA-2015-141817</td>\n",
       "      <td>2015/1/5</td>\n",
       "      <td>2015/1/12</td>\n",
       "      <td>Standard Class</td>\n",
       "      <td>MB-18085</td>\n",
       "      <td>Mick Brown</td>\n",
       "      <td>Consumer</td>\n",
       "      <td>United States</td>\n",
       "      <td>Philadelphia</td>\n",
       "      <td>...</td>\n",
       "      <td>19143.0</td>\n",
       "      <td>East</td>\n",
       "      <td>OFF-AR-10003478</td>\n",
       "      <td>Office Supplies</td>\n",
       "      <td>Art</td>\n",
       "      <td>Avery Hi-Liter EverBold Pen Style Fluorescent ...</td>\n",
       "      <td>19.536</td>\n",
       "      <td>3</td>\n",
       "      <td>0.2</td>\n",
       "      <td>4.8840</td>\n",
       "    </tr>\n",
       "  </tbody>\n",
       "</table>\n",
       "<p>5 rows × 21 columns</p>\n",
       "</div>"
      ],
      "text/plain": [
       "   RowID         OrderID OrderDate   ShipDate        ShipMode CustomerID  \\\n",
       "0   7981  CA-2015-103800  2015/1/3   2015/1/7  Standard Class   DP-13000   \n",
       "1    740  CA-2015-112326  2015/1/4   2015/1/8  Standard Class   PO-19195   \n",
       "2    741  CA-2015-112326  2015/1/4   2015/1/8  Standard Class   PO-19195   \n",
       "3    742  CA-2015-112326  2015/1/4   2015/1/8  Standard Class   PO-19195   \n",
       "4   1760  CA-2015-141817  2015/1/5  2015/1/12  Standard Class   MB-18085   \n",
       "\n",
       "    CustomerName      Segment        Country          City  ... PostalCode  \\\n",
       "0  Darren Powers     Consumer  United States       Houston  ...    77095.0   \n",
       "1  Phillina Ober  Home Office  United States    Naperville  ...    60540.0   \n",
       "2  Phillina Ober  Home Office  United States    Naperville  ...    60540.0   \n",
       "3  Phillina Ober  Home Office  United States    Naperville  ...    60540.0   \n",
       "4     Mick Brown     Consumer  United States  Philadelphia  ...    19143.0   \n",
       "\n",
       "    Region        ProductID         Category Sub-Category  \\\n",
       "0  Central  OFF-PA-10000174  Office Supplies        Paper   \n",
       "1  Central  OFF-LA-10003223  Office Supplies       Labels   \n",
       "2  Central  OFF-ST-10002743  Office Supplies      Storage   \n",
       "3  Central  OFF-BI-10004094  Office Supplies      Binders   \n",
       "4     East  OFF-AR-10003478  Office Supplies          Art   \n",
       "\n",
       "                                         ProductName    Sales  Quantity  \\\n",
       "0  Message Book, Wirebound, Four 5 1/2\" X 4\" Form...   16.448         2   \n",
       "1                                          Avery 508   11.784         3   \n",
       "2                      SAFCO Boltless Steel Shelving  272.736         3   \n",
       "3         GBC Standard Plastic Binding Systems Combs    3.540         2   \n",
       "4  Avery Hi-Liter EverBold Pen Style Fluorescent ...   19.536         3   \n",
       "\n",
       "   Discount   Profit  \n",
       "0       0.2   5.5512  \n",
       "1       0.2   4.2717  \n",
       "2       0.2 -64.7748  \n",
       "3       0.8  -5.4870  \n",
       "4       0.2   4.8840  \n",
       "\n",
       "[5 rows x 21 columns]"
      ]
     },
     "execution_count": 6,
     "metadata": {},
     "output_type": "execute_result"
    }
   ],
   "source": [
    "df.head()"
   ]
  },
  {
   "cell_type": "code",
   "execution_count": 7,
   "id": "ecc14cfb",
   "metadata": {},
   "outputs": [
    {
     "data": {
      "text/plain": [
       "(9994, 21)"
      ]
     },
     "execution_count": 7,
     "metadata": {},
     "output_type": "execute_result"
    }
   ],
   "source": [
    "df.shape"
   ]
  },
  {
   "cell_type": "code",
   "execution_count": 8,
   "id": "d21a0cff",
   "metadata": {},
   "outputs": [
    {
     "name": "stdout",
     "output_type": "stream",
     "text": [
      "<class 'pandas.core.frame.DataFrame'>\n",
      "RangeIndex: 9994 entries, 0 to 9993\n",
      "Data columns (total 21 columns):\n",
      " #   Column        Non-Null Count  Dtype  \n",
      "---  ------        --------------  -----  \n",
      " 0   RowID         9994 non-null   int64  \n",
      " 1   OrderID       9994 non-null   object \n",
      " 2   OrderDate     9994 non-null   object \n",
      " 3   ShipDate      9994 non-null   object \n",
      " 4   ShipMode      9994 non-null   object \n",
      " 5   CustomerID    9994 non-null   object \n",
      " 6   CustomerName  9994 non-null   object \n",
      " 7   Segment       9994 non-null   object \n",
      " 8   Country       9994 non-null   object \n",
      " 9   City          9994 non-null   object \n",
      " 10  State         9994 non-null   object \n",
      " 11  PostalCode    9983 non-null   float64\n",
      " 12  Region        9994 non-null   object \n",
      " 13  ProductID     9994 non-null   object \n",
      " 14  Category      9994 non-null   object \n",
      " 15  Sub-Category  9994 non-null   object \n",
      " 16  ProductName   9994 non-null   object \n",
      " 17  Sales         9994 non-null   float64\n",
      " 18  Quantity      9994 non-null   int64  \n",
      " 19  Discount      9994 non-null   float64\n",
      " 20  Profit        9994 non-null   float64\n",
      "dtypes: float64(4), int64(2), object(15)\n",
      "memory usage: 1.6+ MB\n"
     ]
    }
   ],
   "source": [
    "df.info()"
   ]
  },
  {
   "cell_type": "code",
   "execution_count": 9,
   "id": "080eea98",
   "metadata": {},
   "outputs": [
    {
     "data": {
      "text/html": [
       "<div>\n",
       "<style scoped>\n",
       "    .dataframe tbody tr th:only-of-type {\n",
       "        vertical-align: middle;\n",
       "    }\n",
       "\n",
       "    .dataframe tbody tr th {\n",
       "        vertical-align: top;\n",
       "    }\n",
       "\n",
       "    .dataframe thead th {\n",
       "        text-align: right;\n",
       "    }\n",
       "</style>\n",
       "<table border=\"1\" class=\"dataframe\">\n",
       "  <thead>\n",
       "    <tr style=\"text-align: right;\">\n",
       "      <th></th>\n",
       "      <th>RowID</th>\n",
       "      <th>PostalCode</th>\n",
       "      <th>Sales</th>\n",
       "      <th>Quantity</th>\n",
       "      <th>Discount</th>\n",
       "      <th>Profit</th>\n",
       "    </tr>\n",
       "  </thead>\n",
       "  <tbody>\n",
       "    <tr>\n",
       "      <th>count</th>\n",
       "      <td>9994.000000</td>\n",
       "      <td>9983.000000</td>\n",
       "      <td>9994.000000</td>\n",
       "      <td>9994.000000</td>\n",
       "      <td>9994.000000</td>\n",
       "      <td>9994.000000</td>\n",
       "    </tr>\n",
       "    <tr>\n",
       "      <th>mean</th>\n",
       "      <td>4997.500000</td>\n",
       "      <td>55245.233297</td>\n",
       "      <td>229.858001</td>\n",
       "      <td>3.789574</td>\n",
       "      <td>0.156203</td>\n",
       "      <td>28.656896</td>\n",
       "    </tr>\n",
       "    <tr>\n",
       "      <th>std</th>\n",
       "      <td>2885.163629</td>\n",
       "      <td>32038.715955</td>\n",
       "      <td>623.245101</td>\n",
       "      <td>2.225110</td>\n",
       "      <td>0.206452</td>\n",
       "      <td>234.260108</td>\n",
       "    </tr>\n",
       "    <tr>\n",
       "      <th>min</th>\n",
       "      <td>1.000000</td>\n",
       "      <td>1040.000000</td>\n",
       "      <td>0.444000</td>\n",
       "      <td>1.000000</td>\n",
       "      <td>0.000000</td>\n",
       "      <td>-6599.978000</td>\n",
       "    </tr>\n",
       "    <tr>\n",
       "      <th>25%</th>\n",
       "      <td>2499.250000</td>\n",
       "      <td>23223.000000</td>\n",
       "      <td>17.280000</td>\n",
       "      <td>2.000000</td>\n",
       "      <td>0.000000</td>\n",
       "      <td>1.728750</td>\n",
       "    </tr>\n",
       "    <tr>\n",
       "      <th>50%</th>\n",
       "      <td>4997.500000</td>\n",
       "      <td>57103.000000</td>\n",
       "      <td>54.490000</td>\n",
       "      <td>3.000000</td>\n",
       "      <td>0.200000</td>\n",
       "      <td>8.666500</td>\n",
       "    </tr>\n",
       "    <tr>\n",
       "      <th>75%</th>\n",
       "      <td>7495.750000</td>\n",
       "      <td>90008.000000</td>\n",
       "      <td>209.940000</td>\n",
       "      <td>5.000000</td>\n",
       "      <td>0.200000</td>\n",
       "      <td>29.364000</td>\n",
       "    </tr>\n",
       "    <tr>\n",
       "      <th>max</th>\n",
       "      <td>9994.000000</td>\n",
       "      <td>99301.000000</td>\n",
       "      <td>22638.480000</td>\n",
       "      <td>14.000000</td>\n",
       "      <td>0.800000</td>\n",
       "      <td>8399.976000</td>\n",
       "    </tr>\n",
       "  </tbody>\n",
       "</table>\n",
       "</div>"
      ],
      "text/plain": [
       "             RowID    PostalCode         Sales     Quantity     Discount  \\\n",
       "count  9994.000000   9983.000000   9994.000000  9994.000000  9994.000000   \n",
       "mean   4997.500000  55245.233297    229.858001     3.789574     0.156203   \n",
       "std    2885.163629  32038.715955    623.245101     2.225110     0.206452   \n",
       "min       1.000000   1040.000000      0.444000     1.000000     0.000000   \n",
       "25%    2499.250000  23223.000000     17.280000     2.000000     0.000000   \n",
       "50%    4997.500000  57103.000000     54.490000     3.000000     0.200000   \n",
       "75%    7495.750000  90008.000000    209.940000     5.000000     0.200000   \n",
       "max    9994.000000  99301.000000  22638.480000    14.000000     0.800000   \n",
       "\n",
       "            Profit  \n",
       "count  9994.000000  \n",
       "mean     28.656896  \n",
       "std     234.260108  \n",
       "min   -6599.978000  \n",
       "25%       1.728750  \n",
       "50%       8.666500  \n",
       "75%      29.364000  \n",
       "max    8399.976000  "
      ]
     },
     "execution_count": 9,
     "metadata": {},
     "output_type": "execute_result"
    }
   ],
   "source": [
    "df.describe()"
   ]
  },
  {
   "cell_type": "markdown",
   "id": "4ec38b7f",
   "metadata": {},
   "source": [
    "## 数据预处理"
   ]
  },
  {
   "cell_type": "markdown",
   "id": "a7dc3235",
   "metadata": {},
   "source": [
    "### 数据去重"
   ]
  },
  {
   "cell_type": "code",
   "execution_count": 10,
   "id": "c2cd612d",
   "metadata": {},
   "outputs": [
    {
     "name": "stdout",
     "output_type": "stream",
     "text": [
      "<class 'pandas.core.frame.DataFrame'>\n",
      "Int64Index: 9994 entries, 0 to 9993\n",
      "Data columns (total 21 columns):\n",
      " #   Column        Non-Null Count  Dtype  \n",
      "---  ------        --------------  -----  \n",
      " 0   RowID         9994 non-null   int64  \n",
      " 1   OrderID       9994 non-null   object \n",
      " 2   OrderDate     9994 non-null   object \n",
      " 3   ShipDate      9994 non-null   object \n",
      " 4   ShipMode      9994 non-null   object \n",
      " 5   CustomerID    9994 non-null   object \n",
      " 6   CustomerName  9994 non-null   object \n",
      " 7   Segment       9994 non-null   object \n",
      " 8   Country       9994 non-null   object \n",
      " 9   City          9994 non-null   object \n",
      " 10  State         9994 non-null   object \n",
      " 11  PostalCode    9983 non-null   float64\n",
      " 12  Region        9994 non-null   object \n",
      " 13  ProductID     9994 non-null   object \n",
      " 14  Category      9994 non-null   object \n",
      " 15  Sub-Category  9994 non-null   object \n",
      " 16  ProductName   9994 non-null   object \n",
      " 17  Sales         9994 non-null   float64\n",
      " 18  Quantity      9994 non-null   int64  \n",
      " 19  Discount      9994 non-null   float64\n",
      " 20  Profit        9994 non-null   float64\n",
      "dtypes: float64(4), int64(2), object(15)\n",
      "memory usage: 1.7+ MB\n"
     ]
    }
   ],
   "source": [
    "df = df.drop_duplicates()\n",
    "df.info()"
   ]
  },
  {
   "cell_type": "markdown",
   "id": "ef580cbc",
   "metadata": {},
   "source": [
    "**Takeaway**\n",
    "  * 我们尝试去掉数据集里面的重复值，去完之后发现任何列的数值没有改变，说明这个数据集内原本就不存在着重复值。"
   ]
  },
  {
   "cell_type": "markdown",
   "id": "ed8b77a5",
   "metadata": {},
   "source": [
    "### 异常值处理"
   ]
  },
  {
   "cell_type": "code",
   "execution_count": 11,
   "id": "3e609340",
   "metadata": {},
   "outputs": [
    {
     "data": {
      "text/plain": [
       "0"
      ]
     },
     "execution_count": 11,
     "metadata": {},
     "output_type": "execute_result"
    }
   ],
   "source": [
    "#查看是否有销售额小于0的行\n",
    "df.loc[df['Sales'] < 0].Sales.count()"
   ]
  },
  {
   "cell_type": "code",
   "execution_count": 12,
   "id": "cb259029",
   "metadata": {},
   "outputs": [
    {
     "data": {
      "text/plain": [
       "0"
      ]
     },
     "execution_count": 12,
     "metadata": {},
     "output_type": "execute_result"
    }
   ],
   "source": [
    "#查看是否有销售量小于0的行\n",
    "df.loc[df['Quantity'] < 0].Sales.count()"
   ]
  },
  {
   "cell_type": "markdown",
   "id": "761b6a55",
   "metadata": {},
   "source": [
    "**Takeaway**\n",
    "  * 我们尝试查看有没有任何销售量和销售额异常的行，发现并没有这样的情况发生，数据集可能已经被提前清洗，或本身就比较整洁。"
   ]
  },
  {
   "cell_type": "markdown",
   "id": "73ce67f9",
   "metadata": {},
   "source": [
    "### 缺失值处理"
   ]
  },
  {
   "cell_type": "code",
   "execution_count": 13,
   "id": "63530837",
   "metadata": {},
   "outputs": [
    {
     "data": {
      "text/plain": [
       "RowID            0\n",
       "OrderID          0\n",
       "OrderDate        0\n",
       "ShipDate         0\n",
       "ShipMode         0\n",
       "CustomerID       0\n",
       "CustomerName     0\n",
       "Segment          0\n",
       "Country          0\n",
       "City             0\n",
       "State            0\n",
       "PostalCode      11\n",
       "Region           0\n",
       "ProductID        0\n",
       "Category         0\n",
       "Sub-Category     0\n",
       "ProductName      0\n",
       "Sales            0\n",
       "Quantity         0\n",
       "Discount         0\n",
       "Profit           0\n",
       "dtype: int64"
      ]
     },
     "execution_count": 13,
     "metadata": {},
     "output_type": "execute_result"
    }
   ],
   "source": [
    "#查看每一列缺失值的数量\n",
    "df.isnull().sum()"
   ]
  },
  {
   "cell_type": "markdown",
   "id": "60a0cc31",
   "metadata": {},
   "source": [
    "**Takeaway**\n",
    "  * 我们看到数据集只有在邮政编码这列有11个缺失值。\n",
    "  * 考虑到我们将进行RFM模型进行客户价值和创利能力分析，不牵扯到任何关于客户人群画像的分析，所以邮政编码这一列不一定会使用到。所以我们就先不处理此处发现的缺失值。"
   ]
  },
  {
   "cell_type": "markdown",
   "id": "a3a308e7",
   "metadata": {},
   "source": [
    "### 日期格式处理"
   ]
  },
  {
   "cell_type": "code",
   "execution_count": 14,
   "id": "e47fe127",
   "metadata": {},
   "outputs": [
    {
     "name": "stdout",
     "output_type": "stream",
     "text": [
      "<class 'pandas.core.frame.DataFrame'>\n",
      "Int64Index: 9994 entries, 0 to 9993\n",
      "Data columns (total 21 columns):\n",
      " #   Column        Non-Null Count  Dtype         \n",
      "---  ------        --------------  -----         \n",
      " 0   RowID         9994 non-null   int64         \n",
      " 1   OrderID       9994 non-null   object        \n",
      " 2   OrderDate     9994 non-null   datetime64[ns]\n",
      " 3   ShipDate      9994 non-null   object        \n",
      " 4   ShipMode      9994 non-null   object        \n",
      " 5   CustomerID    9994 non-null   object        \n",
      " 6   CustomerName  9994 non-null   object        \n",
      " 7   Segment       9994 non-null   object        \n",
      " 8   Country       9994 non-null   object        \n",
      " 9   City          9994 non-null   object        \n",
      " 10  State         9994 non-null   object        \n",
      " 11  PostalCode    9983 non-null   float64       \n",
      " 12  Region        9994 non-null   object        \n",
      " 13  ProductID     9994 non-null   object        \n",
      " 14  Category      9994 non-null   object        \n",
      " 15  Sub-Category  9994 non-null   object        \n",
      " 16  ProductName   9994 non-null   object        \n",
      " 17  Sales         9994 non-null   float64       \n",
      " 18  Quantity      9994 non-null   int64         \n",
      " 19  Discount      9994 non-null   float64       \n",
      " 20  Profit        9994 non-null   float64       \n",
      "dtypes: datetime64[ns](1), float64(4), int64(2), object(14)\n",
      "memory usage: 1.7+ MB\n"
     ]
    }
   ],
   "source": [
    "#将日期列从str转换为timestamp格式\n",
    "df['OrderDate'] = pd.to_datetime(df['OrderDate'])\n",
    "df.info()"
   ]
  },
  {
   "cell_type": "code",
   "execution_count": 15,
   "id": "039cd821",
   "metadata": {},
   "outputs": [
    {
     "data": {
      "text/plain": [
       "Timestamp('2018-12-30 00:00:00')"
      ]
     },
     "execution_count": 15,
     "metadata": {},
     "output_type": "execute_result"
    }
   ],
   "source": [
    "#最晚下单时间\n",
    "df['OrderDate'].max()"
   ]
  },
  {
   "cell_type": "code",
   "execution_count": 16,
   "id": "9ed1ff00",
   "metadata": {},
   "outputs": [
    {
     "data": {
      "text/plain": [
       "Timestamp('2015-01-03 00:00:00')"
      ]
     },
     "execution_count": 16,
     "metadata": {},
     "output_type": "execute_result"
    }
   ],
   "source": [
    "#最早下单时间\n",
    "df['OrderDate'].min()"
   ]
  },
  {
   "cell_type": "markdown",
   "id": "502687a1",
   "metadata": {},
   "source": [
    "**Takeaway**\n",
    "  * 我们此处将下单日期从str格式转换为了日期格式。\n",
    "  * 转换后我们找到了最早和最晚下单时间，我们可以归纳本数据集记录时间为2015-01-03到2018-12-30。"
   ]
  },
  {
   "cell_type": "markdown",
   "id": "49437347",
   "metadata": {},
   "source": [
    "## 基于RFM模型对客户价值和创利能力分析"
   ]
  },
  {
   "cell_type": "markdown",
   "id": "d90ce738",
   "metadata": {},
   "source": [
    "**RFM模型介绍**"
   ]
  },
  {
   "cell_type": "markdown",
   "id": "f52d4501",
   "metadata": {},
   "source": [
    "* 介绍：RFM模型是一种探索性分析方法，客户数据中三个重要的指标，包括Recency（最近一次消费的近度）、Frequency（消费频率）、Monetary（消费金额）是衡量客户价值的重要标准。\n",
    "* 优点：模型可以识别优质客户，对他们进行个性化的沟通和营销服务，为营销决策提供有力支持，并能够衡量客户价值和客户利润创收能力。"
   ]
  },
  {
   "cell_type": "markdown",
   "id": "211282d5",
   "metadata": {},
   "source": [
    "**Observations**"
   ]
  },
  {
   "cell_type": "markdown",
   "id": "8ae56557",
   "metadata": {},
   "source": [
    "* 我们观察到数据集的时间跨度较大，有4年之多。我们或许需要考虑一下情况：有些用户会集中在某一年购买商品，而有些用户会持续分散地购买商品。这两种情况的应用范围和我们需要做的事情也不一样，所以我们可能需要对此进行标准化。\n",
    "* 我们观察到这个数据集中有销售额、折扣、以及利润三栏。"
   ]
  },
  {
   "cell_type": "markdown",
   "id": "66e9f445",
   "metadata": {},
   "source": [
    "**Improvements**"
   ]
  },
  {
   "cell_type": "markdown",
   "id": "3db9d82c",
   "metadata": {},
   "source": [
    "* 传统的RFM模型在计算frequency的时候会用用户的购买次数除以总时间跨度来表示频次。但是考虑到上面的因素，我们将计算方式改为用户的购买次数除以用户发生购买行为的时间跨度，这样更能够清晰地认知每个用户的购买频次和行为。\n",
    "* 在考虑的时候不单止要考虑某类客户的销售额，更加要考虑利润。"
   ]
  },
  {
   "cell_type": "markdown",
   "id": "000f2e96",
   "metadata": {},
   "source": [
    "**模型分类**"
   ]
  },
  {
   "cell_type": "markdown",
   "id": "e51f0917",
   "metadata": {},
   "source": [
    "* 分类：此处我们将着重挖掘需要我们去个性化运营的用户，相比于传统RFM模型的8种分类，我们主要寻找以下几种高价值用户（至少R/F/M中两项为高，重要挽留客户除外），将价值较低的用户划分为一般客户：\n",
    "    * 重要价值客户（高，高，高）：最近消费时间近、消费频次和消费金额都很高，绝对的优质客户。\n",
    "    * 重要保持客户（低，高，高）：最近消费时间较远，但消费频次和金额都很高，说明这是个一段时间没来的忠诚客户，需要主动和他保持联系。\n",
    "    * 重要发展客户（高，低，高）：最近消费时间较近、消费金额高，但频次不高，忠诚度不高，很有潜力的用户，必须重点发展。\n",
    "    * 重要挽留客户（低，低，高）：最近消费时间较远、消费频次不高，但消费金额高，可能是将要流失或者已经要流失的用户，应当基于挽留措施\n",
    "    * 一般客户: 其他客户"
   ]
  },
  {
   "cell_type": "markdown",
   "id": "6adbc1cd",
   "metadata": {},
   "source": [
    "### Recency"
   ]
  },
  {
   "cell_type": "code",
   "execution_count": 19,
   "id": "229dd408",
   "metadata": {},
   "outputs": [],
   "source": [
    "df_group = df.groupby('CustomerID')\n",
    "df_r = df_group.agg({'OrderDate':'max'})\n",
    "df_r['Recency'] = (pd.to_datetime('2019-01-01') - df_r['OrderDate']).dt.days\n",
    "df_r = df_r.drop('OrderDate', axis=1)"
   ]
  },
  {
   "cell_type": "code",
   "execution_count": 20,
   "id": "307ff9a9",
   "metadata": {},
   "outputs": [
    {
     "data": {
      "text/html": [
       "<div>\n",
       "<style scoped>\n",
       "    .dataframe tbody tr th:only-of-type {\n",
       "        vertical-align: middle;\n",
       "    }\n",
       "\n",
       "    .dataframe tbody tr th {\n",
       "        vertical-align: top;\n",
       "    }\n",
       "\n",
       "    .dataframe thead th {\n",
       "        text-align: right;\n",
       "    }\n",
       "</style>\n",
       "<table border=\"1\" class=\"dataframe\">\n",
       "  <thead>\n",
       "    <tr style=\"text-align: right;\">\n",
       "      <th></th>\n",
       "      <th>Recency</th>\n",
       "    </tr>\n",
       "    <tr>\n",
       "      <th>CustomerID</th>\n",
       "      <th></th>\n",
       "    </tr>\n",
       "  </thead>\n",
       "  <tbody>\n",
       "    <tr>\n",
       "      <th>AA-10315</th>\n",
       "      <td>186</td>\n",
       "    </tr>\n",
       "    <tr>\n",
       "      <th>AA-10375</th>\n",
       "      <td>21</td>\n",
       "    </tr>\n",
       "    <tr>\n",
       "      <th>AA-10480</th>\n",
       "      <td>261</td>\n",
       "    </tr>\n",
       "    <tr>\n",
       "      <th>AA-10645</th>\n",
       "      <td>57</td>\n",
       "    </tr>\n",
       "    <tr>\n",
       "      <th>AB-10015</th>\n",
       "      <td>417</td>\n",
       "    </tr>\n",
       "  </tbody>\n",
       "</table>\n",
       "</div>"
      ],
      "text/plain": [
       "            Recency\n",
       "CustomerID         \n",
       "AA-10315        186\n",
       "AA-10375         21\n",
       "AA-10480        261\n",
       "AA-10645         57\n",
       "AB-10015        417"
      ]
     },
     "execution_count": 20,
     "metadata": {},
     "output_type": "execute_result"
    }
   ],
   "source": [
    "df_r.head()"
   ]
  },
  {
   "cell_type": "markdown",
   "id": "fd7a6f76",
   "metadata": {},
   "source": [
    "### Frequency "
   ]
  },
  {
   "cell_type": "markdown",
   "id": "3d16469a",
   "metadata": {},
   "source": [
    "#### Frequency 01: 计算不同客户在所有时间内的下单次数"
   ]
  },
  {
   "cell_type": "code",
   "execution_count": 21,
   "id": "0e8c04ad",
   "metadata": {},
   "outputs": [],
   "source": [
    "df_F = df.copy()\n",
    "\n",
    "#订单去重/合并\n",
    "#每一个订单号算一次购物次数，金额和产品参数可以忽视，因为可以只留第一列\n",
    "df_F.drop_duplicates(subset=['OrderID'],\n",
    "                     keep='first',\n",
    "                     inplace=True)\n",
    "\n",
    "#根据顾客id计算每个顾客的总购物次数\n",
    "df_f = df_F.groupby('CustomerID', as_index=False).OrderID.count().rename(columns={'OrderID':'Frequency'})\n",
    "df_f.set_index('CustomerID',\n",
    "                  drop=True,\n",
    "                 inplace=True)"
   ]
  },
  {
   "cell_type": "code",
   "execution_count": 22,
   "id": "887c822e",
   "metadata": {},
   "outputs": [
    {
     "data": {
      "text/html": [
       "<div>\n",
       "<style scoped>\n",
       "    .dataframe tbody tr th:only-of-type {\n",
       "        vertical-align: middle;\n",
       "    }\n",
       "\n",
       "    .dataframe tbody tr th {\n",
       "        vertical-align: top;\n",
       "    }\n",
       "\n",
       "    .dataframe thead th {\n",
       "        text-align: right;\n",
       "    }\n",
       "</style>\n",
       "<table border=\"1\" class=\"dataframe\">\n",
       "  <thead>\n",
       "    <tr style=\"text-align: right;\">\n",
       "      <th></th>\n",
       "      <th>Frequency</th>\n",
       "    </tr>\n",
       "    <tr>\n",
       "      <th>CustomerID</th>\n",
       "      <th></th>\n",
       "    </tr>\n",
       "  </thead>\n",
       "  <tbody>\n",
       "    <tr>\n",
       "      <th>AA-10315</th>\n",
       "      <td>5</td>\n",
       "    </tr>\n",
       "    <tr>\n",
       "      <th>AA-10375</th>\n",
       "      <td>9</td>\n",
       "    </tr>\n",
       "    <tr>\n",
       "      <th>AA-10480</th>\n",
       "      <td>4</td>\n",
       "    </tr>\n",
       "    <tr>\n",
       "      <th>AA-10645</th>\n",
       "      <td>6</td>\n",
       "    </tr>\n",
       "    <tr>\n",
       "      <th>AB-10015</th>\n",
       "      <td>3</td>\n",
       "    </tr>\n",
       "  </tbody>\n",
       "</table>\n",
       "</div>"
      ],
      "text/plain": [
       "            Frequency\n",
       "CustomerID           \n",
       "AA-10315            5\n",
       "AA-10375            9\n",
       "AA-10480            4\n",
       "AA-10645            6\n",
       "AB-10015            3"
      ]
     },
     "execution_count": 22,
     "metadata": {},
     "output_type": "execute_result"
    }
   ],
   "source": [
    "df_f.head()"
   ]
  },
  {
   "cell_type": "markdown",
   "id": "2c486b29",
   "metadata": {},
   "source": [
    "#### Frequency 02:计算不同客户在其发生购买行为的年限内的下单次数"
   ]
  },
  {
   "cell_type": "code",
   "execution_count": 23,
   "id": "9509180f",
   "metadata": {},
   "outputs": [],
   "source": [
    "#计算每个客户发生购买行为的年限\n",
    "DiffYears = df_group.agg({'OrderDate':(lambda df:df.dt.year.max()-df.dt.year.min()+1)}).rename(columns={'OrderDate':'DiffYears'}).DiffYears\n",
    "df_f.Frequency = df_f.Frequency/DiffYears"
   ]
  },
  {
   "cell_type": "code",
   "execution_count": 24,
   "id": "6f5812e4",
   "metadata": {},
   "outputs": [
    {
     "data": {
      "text/html": [
       "<div>\n",
       "<style scoped>\n",
       "    .dataframe tbody tr th:only-of-type {\n",
       "        vertical-align: middle;\n",
       "    }\n",
       "\n",
       "    .dataframe tbody tr th {\n",
       "        vertical-align: top;\n",
       "    }\n",
       "\n",
       "    .dataframe thead th {\n",
       "        text-align: right;\n",
       "    }\n",
       "</style>\n",
       "<table border=\"1\" class=\"dataframe\">\n",
       "  <thead>\n",
       "    <tr style=\"text-align: right;\">\n",
       "      <th></th>\n",
       "      <th>Frequency</th>\n",
       "    </tr>\n",
       "    <tr>\n",
       "      <th>CustomerID</th>\n",
       "      <th></th>\n",
       "    </tr>\n",
       "  </thead>\n",
       "  <tbody>\n",
       "    <tr>\n",
       "      <th>AA-10315</th>\n",
       "      <td>1.25</td>\n",
       "    </tr>\n",
       "    <tr>\n",
       "      <th>AA-10375</th>\n",
       "      <td>2.25</td>\n",
       "    </tr>\n",
       "    <tr>\n",
       "      <th>AA-10480</th>\n",
       "      <td>1.00</td>\n",
       "    </tr>\n",
       "    <tr>\n",
       "      <th>AA-10645</th>\n",
       "      <td>1.50</td>\n",
       "    </tr>\n",
       "    <tr>\n",
       "      <th>AB-10015</th>\n",
       "      <td>1.00</td>\n",
       "    </tr>\n",
       "  </tbody>\n",
       "</table>\n",
       "</div>"
      ],
      "text/plain": [
       "            Frequency\n",
       "CustomerID           \n",
       "AA-10315         1.25\n",
       "AA-10375         2.25\n",
       "AA-10480         1.00\n",
       "AA-10645         1.50\n",
       "AB-10015         1.00"
      ]
     },
     "execution_count": 24,
     "metadata": {},
     "output_type": "execute_result"
    }
   ],
   "source": [
    "df_f.head()"
   ]
  },
  {
   "cell_type": "markdown",
   "id": "daa2dcbb",
   "metadata": {},
   "source": [
    "### Monetary"
   ]
  },
  {
   "cell_type": "code",
   "execution_count": 25,
   "id": "d194ace2",
   "metadata": {},
   "outputs": [],
   "source": [
    "df_m = df_group.agg({'Sales':'sum','Profit':'sum'}).rename(columns={'Sales':'Monetary'})"
   ]
  },
  {
   "cell_type": "code",
   "execution_count": 26,
   "id": "18b9dc5d",
   "metadata": {},
   "outputs": [
    {
     "data": {
      "text/html": [
       "<div>\n",
       "<style scoped>\n",
       "    .dataframe tbody tr th:only-of-type {\n",
       "        vertical-align: middle;\n",
       "    }\n",
       "\n",
       "    .dataframe tbody tr th {\n",
       "        vertical-align: top;\n",
       "    }\n",
       "\n",
       "    .dataframe thead th {\n",
       "        text-align: right;\n",
       "    }\n",
       "</style>\n",
       "<table border=\"1\" class=\"dataframe\">\n",
       "  <thead>\n",
       "    <tr style=\"text-align: right;\">\n",
       "      <th></th>\n",
       "      <th>Monetary</th>\n",
       "      <th>Profit</th>\n",
       "    </tr>\n",
       "    <tr>\n",
       "      <th>CustomerID</th>\n",
       "      <th></th>\n",
       "      <th></th>\n",
       "    </tr>\n",
       "  </thead>\n",
       "  <tbody>\n",
       "    <tr>\n",
       "      <th>AA-10315</th>\n",
       "      <td>5563.560</td>\n",
       "      <td>-362.8825</td>\n",
       "    </tr>\n",
       "    <tr>\n",
       "      <th>AA-10375</th>\n",
       "      <td>1056.390</td>\n",
       "      <td>277.3824</td>\n",
       "    </tr>\n",
       "    <tr>\n",
       "      <th>AA-10480</th>\n",
       "      <td>1790.512</td>\n",
       "      <td>435.8274</td>\n",
       "    </tr>\n",
       "    <tr>\n",
       "      <th>AA-10645</th>\n",
       "      <td>5086.935</td>\n",
       "      <td>857.8033</td>\n",
       "    </tr>\n",
       "    <tr>\n",
       "      <th>AB-10015</th>\n",
       "      <td>886.156</td>\n",
       "      <td>129.3465</td>\n",
       "    </tr>\n",
       "  </tbody>\n",
       "</table>\n",
       "</div>"
      ],
      "text/plain": [
       "            Monetary    Profit\n",
       "CustomerID                    \n",
       "AA-10315    5563.560 -362.8825\n",
       "AA-10375    1056.390  277.3824\n",
       "AA-10480    1790.512  435.8274\n",
       "AA-10645    5086.935  857.8033\n",
       "AB-10015     886.156  129.3465"
      ]
     },
     "execution_count": 26,
     "metadata": {},
     "output_type": "execute_result"
    }
   ],
   "source": [
    "df_m.head()"
   ]
  },
  {
   "cell_type": "markdown",
   "id": "a1155194",
   "metadata": {},
   "source": [
    "### RFM-combined"
   ]
  },
  {
   "cell_type": "code",
   "execution_count": 27,
   "id": "7dd965ad",
   "metadata": {},
   "outputs": [],
   "source": [
    "df_rf = df_r.merge(df_f, on='CustomerID')\n",
    "df_rfm = df_rf.merge(df_m, on='CustomerID')"
   ]
  },
  {
   "cell_type": "code",
   "execution_count": 28,
   "id": "d22f3a90",
   "metadata": {},
   "outputs": [
    {
     "data": {
      "text/html": [
       "<div>\n",
       "<style scoped>\n",
       "    .dataframe tbody tr th:only-of-type {\n",
       "        vertical-align: middle;\n",
       "    }\n",
       "\n",
       "    .dataframe tbody tr th {\n",
       "        vertical-align: top;\n",
       "    }\n",
       "\n",
       "    .dataframe thead th {\n",
       "        text-align: right;\n",
       "    }\n",
       "</style>\n",
       "<table border=\"1\" class=\"dataframe\">\n",
       "  <thead>\n",
       "    <tr style=\"text-align: right;\">\n",
       "      <th></th>\n",
       "      <th>Recency</th>\n",
       "      <th>Frequency</th>\n",
       "      <th>Monetary</th>\n",
       "      <th>Profit</th>\n",
       "    </tr>\n",
       "    <tr>\n",
       "      <th>CustomerID</th>\n",
       "      <th></th>\n",
       "      <th></th>\n",
       "      <th></th>\n",
       "      <th></th>\n",
       "    </tr>\n",
       "  </thead>\n",
       "  <tbody>\n",
       "    <tr>\n",
       "      <th>AA-10315</th>\n",
       "      <td>186</td>\n",
       "      <td>1.25</td>\n",
       "      <td>5563.560</td>\n",
       "      <td>-362.8825</td>\n",
       "    </tr>\n",
       "    <tr>\n",
       "      <th>AA-10375</th>\n",
       "      <td>21</td>\n",
       "      <td>2.25</td>\n",
       "      <td>1056.390</td>\n",
       "      <td>277.3824</td>\n",
       "    </tr>\n",
       "    <tr>\n",
       "      <th>AA-10480</th>\n",
       "      <td>261</td>\n",
       "      <td>1.00</td>\n",
       "      <td>1790.512</td>\n",
       "      <td>435.8274</td>\n",
       "    </tr>\n",
       "    <tr>\n",
       "      <th>AA-10645</th>\n",
       "      <td>57</td>\n",
       "      <td>1.50</td>\n",
       "      <td>5086.935</td>\n",
       "      <td>857.8033</td>\n",
       "    </tr>\n",
       "    <tr>\n",
       "      <th>AB-10015</th>\n",
       "      <td>417</td>\n",
       "      <td>1.00</td>\n",
       "      <td>886.156</td>\n",
       "      <td>129.3465</td>\n",
       "    </tr>\n",
       "  </tbody>\n",
       "</table>\n",
       "</div>"
      ],
      "text/plain": [
       "            Recency  Frequency  Monetary    Profit\n",
       "CustomerID                                        \n",
       "AA-10315        186       1.25  5563.560 -362.8825\n",
       "AA-10375         21       2.25  1056.390  277.3824\n",
       "AA-10480        261       1.00  1790.512  435.8274\n",
       "AA-10645         57       1.50  5086.935  857.8033\n",
       "AB-10015        417       1.00   886.156  129.3465"
      ]
     },
     "execution_count": 28,
     "metadata": {},
     "output_type": "execute_result"
    }
   ],
   "source": [
    "df_rfm.head()"
   ]
  },
  {
   "cell_type": "code",
   "execution_count": 29,
   "id": "a912140f",
   "metadata": {},
   "outputs": [
    {
     "name": "stdout",
     "output_type": "stream",
     "text": [
      "<class 'pandas.core.frame.DataFrame'>\n",
      "Index: 793 entries, AA-10315 to ZD-21925\n",
      "Data columns (total 4 columns):\n",
      " #   Column     Non-Null Count  Dtype  \n",
      "---  ------     --------------  -----  \n",
      " 0   Recency    793 non-null    int64  \n",
      " 1   Frequency  793 non-null    float64\n",
      " 2   Monetary   793 non-null    float64\n",
      " 3   Profit     793 non-null    float64\n",
      "dtypes: float64(3), int64(1)\n",
      "memory usage: 31.0+ KB\n"
     ]
    }
   ],
   "source": [
    "df_rfm.info()"
   ]
  },
  {
   "cell_type": "code",
   "execution_count": 30,
   "id": "55fbb81d",
   "metadata": {},
   "outputs": [
    {
     "data": {
      "text/html": [
       "<div>\n",
       "<style scoped>\n",
       "    .dataframe tbody tr th:only-of-type {\n",
       "        vertical-align: middle;\n",
       "    }\n",
       "\n",
       "    .dataframe tbody tr th {\n",
       "        vertical-align: top;\n",
       "    }\n",
       "\n",
       "    .dataframe thead th {\n",
       "        text-align: right;\n",
       "    }\n",
       "</style>\n",
       "<table border=\"1\" class=\"dataframe\">\n",
       "  <thead>\n",
       "    <tr style=\"text-align: right;\">\n",
       "      <th></th>\n",
       "      <th>Recency</th>\n",
       "      <th>Frequency</th>\n",
       "      <th>Monetary</th>\n",
       "      <th>Profit</th>\n",
       "    </tr>\n",
       "  </thead>\n",
       "  <tbody>\n",
       "    <tr>\n",
       "      <th>count</th>\n",
       "      <td>793.000000</td>\n",
       "      <td>793.000000</td>\n",
       "      <td>793.000000</td>\n",
       "      <td>793.000000</td>\n",
       "    </tr>\n",
       "    <tr>\n",
       "      <th>mean</th>\n",
       "      <td>148.773014</td>\n",
       "      <td>1.818306</td>\n",
       "      <td>2896.848500</td>\n",
       "      <td>361.156396</td>\n",
       "    </tr>\n",
       "    <tr>\n",
       "      <th>std</th>\n",
       "      <td>186.111367</td>\n",
       "      <td>0.673193</td>\n",
       "      <td>2628.670117</td>\n",
       "      <td>894.261812</td>\n",
       "    </tr>\n",
       "    <tr>\n",
       "      <th>min</th>\n",
       "      <td>2.000000</td>\n",
       "      <td>0.500000</td>\n",
       "      <td>4.833000</td>\n",
       "      <td>-6626.389500</td>\n",
       "    </tr>\n",
       "    <tr>\n",
       "      <th>25%</th>\n",
       "      <td>32.000000</td>\n",
       "      <td>1.250000</td>\n",
       "      <td>1146.050000</td>\n",
       "      <td>36.613100</td>\n",
       "    </tr>\n",
       "    <tr>\n",
       "      <th>50%</th>\n",
       "      <td>77.000000</td>\n",
       "      <td>1.750000</td>\n",
       "      <td>2256.394000</td>\n",
       "      <td>227.833800</td>\n",
       "    </tr>\n",
       "    <tr>\n",
       "      <th>75%</th>\n",
       "      <td>185.000000</td>\n",
       "      <td>2.250000</td>\n",
       "      <td>3785.276000</td>\n",
       "      <td>560.007800</td>\n",
       "    </tr>\n",
       "    <tr>\n",
       "      <th>max</th>\n",
       "      <td>1167.000000</td>\n",
       "      <td>5.000000</td>\n",
       "      <td>25043.050000</td>\n",
       "      <td>8981.323900</td>\n",
       "    </tr>\n",
       "  </tbody>\n",
       "</table>\n",
       "</div>"
      ],
      "text/plain": [
       "           Recency   Frequency      Monetary       Profit\n",
       "count   793.000000  793.000000    793.000000   793.000000\n",
       "mean    148.773014    1.818306   2896.848500   361.156396\n",
       "std     186.111367    0.673193   2628.670117   894.261812\n",
       "min       2.000000    0.500000      4.833000 -6626.389500\n",
       "25%      32.000000    1.250000   1146.050000    36.613100\n",
       "50%      77.000000    1.750000   2256.394000   227.833800\n",
       "75%     185.000000    2.250000   3785.276000   560.007800\n",
       "max    1167.000000    5.000000  25043.050000  8981.323900"
      ]
     },
     "execution_count": 30,
     "metadata": {},
     "output_type": "execute_result"
    }
   ],
   "source": [
    "df_rfm.describe()"
   ]
  },
  {
   "cell_type": "markdown",
   "id": "9681766f",
   "metadata": {},
   "source": [
    "### RFM Analysis"
   ]
  },
  {
   "cell_type": "markdown",
   "id": "437f864f",
   "metadata": {},
   "source": [
    "#### 客户分类"
   ]
  },
  {
   "cell_type": "code",
   "execution_count": 31,
   "id": "5fe3f869",
   "metadata": {},
   "outputs": [],
   "source": [
    "#计算每一列的median\n",
    "r_med = df_rfm['Recency'].median()\n",
    "f_med = df_rfm['Frequency'].median()\n",
    "m_med = df_rfm['Monetary'].median()"
   ]
  },
  {
   "cell_type": "code",
   "execution_count": 32,
   "id": "264f9eee",
   "metadata": {},
   "outputs": [
    {
     "data": {
      "text/plain": [
       "(77.0, 1.75, 2256.394)"
      ]
     },
     "execution_count": 32,
     "metadata": {},
     "output_type": "execute_result"
    }
   ],
   "source": [
    "r_med,f_med,m_med"
   ]
  },
  {
   "cell_type": "code",
   "execution_count": 33,
   "id": "eb0b4165",
   "metadata": {},
   "outputs": [],
   "source": [
    "#定义用rfm模型来分类用户的方法（inplace）\n",
    "#Input:第一列存有每个用户的r值，第二列存有每个用户的f值，第三列存有每个用户的m值的dataframe\n",
    "#此函数利用r、f和m值分类dataframe中的每一个用户，并在原dataframe中增加一列表示客户类型\n",
    "\n",
    "def customer_type(df, r_med, f_med, m_med): \n",
    "    \n",
    "    type_lst = []\n",
    "    \n",
    "    for i in range(len(df)):\n",
    "        if df.iloc[i,0] <= r_med and df.iloc[i,1] >= f_med and df.iloc[i,2] >= m_med:\n",
    "            type_lst.append('重要价值客户')\n",
    "            \n",
    "        elif df.iloc[i,0] <= r_med and df.iloc[i,1] < f_med and df.iloc[i,2] >= m_med:\n",
    "            type_lst.append('重要发展客户')\n",
    "            \n",
    "        elif df.iloc[i,0] > r_med and df.iloc[i,1] >= f_med and df.iloc[i,2] >= m_med:\n",
    "            type_lst.append('重要保持客户')\n",
    "            \n",
    "        elif df.iloc[i,0] > r_med and df.iloc[i,1] < f_med and df.iloc[i,2] >= m_med:\n",
    "            type_lst.append('重要挽留客户')\n",
    "            \n",
    "        else:\n",
    "            type_lst.append('一般客户')\n",
    "            \n",
    "    df['CustomerType'] = type_lst"
   ]
  },
  {
   "cell_type": "code",
   "execution_count": 34,
   "id": "f944db6b",
   "metadata": {},
   "outputs": [],
   "source": [
    "customer_type(df_rfm, r_med, f_med, m_med)"
   ]
  },
  {
   "cell_type": "code",
   "execution_count": 35,
   "id": "8c09ee1a",
   "metadata": {},
   "outputs": [
    {
     "data": {
      "text/html": [
       "<div>\n",
       "<style scoped>\n",
       "    .dataframe tbody tr th:only-of-type {\n",
       "        vertical-align: middle;\n",
       "    }\n",
       "\n",
       "    .dataframe tbody tr th {\n",
       "        vertical-align: top;\n",
       "    }\n",
       "\n",
       "    .dataframe thead th {\n",
       "        text-align: right;\n",
       "    }\n",
       "</style>\n",
       "<table border=\"1\" class=\"dataframe\">\n",
       "  <thead>\n",
       "    <tr style=\"text-align: right;\">\n",
       "      <th></th>\n",
       "      <th>Recency</th>\n",
       "      <th>Frequency</th>\n",
       "      <th>Monetary</th>\n",
       "      <th>Profit</th>\n",
       "      <th>CustomerType</th>\n",
       "    </tr>\n",
       "    <tr>\n",
       "      <th>CustomerID</th>\n",
       "      <th></th>\n",
       "      <th></th>\n",
       "      <th></th>\n",
       "      <th></th>\n",
       "      <th></th>\n",
       "    </tr>\n",
       "  </thead>\n",
       "  <tbody>\n",
       "    <tr>\n",
       "      <th>AA-10315</th>\n",
       "      <td>186</td>\n",
       "      <td>1.25</td>\n",
       "      <td>5563.560</td>\n",
       "      <td>-362.8825</td>\n",
       "      <td>重要挽留客户</td>\n",
       "    </tr>\n",
       "    <tr>\n",
       "      <th>AA-10375</th>\n",
       "      <td>21</td>\n",
       "      <td>2.25</td>\n",
       "      <td>1056.390</td>\n",
       "      <td>277.3824</td>\n",
       "      <td>一般客户</td>\n",
       "    </tr>\n",
       "    <tr>\n",
       "      <th>AA-10480</th>\n",
       "      <td>261</td>\n",
       "      <td>1.00</td>\n",
       "      <td>1790.512</td>\n",
       "      <td>435.8274</td>\n",
       "      <td>一般客户</td>\n",
       "    </tr>\n",
       "    <tr>\n",
       "      <th>AA-10645</th>\n",
       "      <td>57</td>\n",
       "      <td>1.50</td>\n",
       "      <td>5086.935</td>\n",
       "      <td>857.8033</td>\n",
       "      <td>重要发展客户</td>\n",
       "    </tr>\n",
       "    <tr>\n",
       "      <th>AB-10015</th>\n",
       "      <td>417</td>\n",
       "      <td>1.00</td>\n",
       "      <td>886.156</td>\n",
       "      <td>129.3465</td>\n",
       "      <td>一般客户</td>\n",
       "    </tr>\n",
       "  </tbody>\n",
       "</table>\n",
       "</div>"
      ],
      "text/plain": [
       "            Recency  Frequency  Monetary    Profit CustomerType\n",
       "CustomerID                                                     \n",
       "AA-10315        186       1.25  5563.560 -362.8825       重要挽留客户\n",
       "AA-10375         21       2.25  1056.390  277.3824         一般客户\n",
       "AA-10480        261       1.00  1790.512  435.8274         一般客户\n",
       "AA-10645         57       1.50  5086.935  857.8033       重要发展客户\n",
       "AB-10015        417       1.00   886.156  129.3465         一般客户"
      ]
     },
     "execution_count": 35,
     "metadata": {},
     "output_type": "execute_result"
    }
   ],
   "source": [
    "df_rfm.head()"
   ]
  },
  {
   "cell_type": "markdown",
   "id": "22f82c4e",
   "metadata": {},
   "source": [
    "#### 统计每各类型客户的人数"
   ]
  },
  {
   "cell_type": "code",
   "execution_count": 36,
   "id": "eb0d1468",
   "metadata": {},
   "outputs": [],
   "source": [
    "#查看每个客户种类的人数\n",
    "df_TypeCnt = df_rfm.groupby('CustomerType').size().reset_index(name='CustomerNum')"
   ]
  },
  {
   "cell_type": "code",
   "execution_count": 37,
   "id": "bc748b16",
   "metadata": {},
   "outputs": [
    {
     "data": {
      "text/html": [
       "<div>\n",
       "<style scoped>\n",
       "    .dataframe tbody tr th:only-of-type {\n",
       "        vertical-align: middle;\n",
       "    }\n",
       "\n",
       "    .dataframe tbody tr th {\n",
       "        vertical-align: top;\n",
       "    }\n",
       "\n",
       "    .dataframe thead th {\n",
       "        text-align: right;\n",
       "    }\n",
       "</style>\n",
       "<table border=\"1\" class=\"dataframe\">\n",
       "  <thead>\n",
       "    <tr style=\"text-align: right;\">\n",
       "      <th></th>\n",
       "      <th>CustomerType</th>\n",
       "      <th>CustomerNum</th>\n",
       "    </tr>\n",
       "  </thead>\n",
       "  <tbody>\n",
       "    <tr>\n",
       "      <th>0</th>\n",
       "      <td>一般客户</td>\n",
       "      <td>396</td>\n",
       "    </tr>\n",
       "    <tr>\n",
       "      <th>1</th>\n",
       "      <td>重要价值客户</td>\n",
       "      <td>179</td>\n",
       "    </tr>\n",
       "    <tr>\n",
       "      <th>2</th>\n",
       "      <td>重要保持客户</td>\n",
       "      <td>115</td>\n",
       "    </tr>\n",
       "    <tr>\n",
       "      <th>3</th>\n",
       "      <td>重要发展客户</td>\n",
       "      <td>51</td>\n",
       "    </tr>\n",
       "    <tr>\n",
       "      <th>4</th>\n",
       "      <td>重要挽留客户</td>\n",
       "      <td>52</td>\n",
       "    </tr>\n",
       "  </tbody>\n",
       "</table>\n",
       "</div>"
      ],
      "text/plain": [
       "  CustomerType  CustomerNum\n",
       "0         一般客户          396\n",
       "1       重要价值客户          179\n",
       "2       重要保持客户          115\n",
       "3       重要发展客户           51\n",
       "4       重要挽留客户           52"
      ]
     },
     "execution_count": 37,
     "metadata": {},
     "output_type": "execute_result"
    }
   ],
   "source": [
    "df_TypeCnt"
   ]
  },
  {
   "cell_type": "markdown",
   "id": "1efc487d",
   "metadata": {},
   "source": [
    "#### 分析不同类型客户的获利情况"
   ]
  },
  {
   "cell_type": "code",
   "execution_count": 38,
   "id": "6ee1bfcb",
   "metadata": {},
   "outputs": [],
   "source": [
    "#新增一列表示在此客户身上是否盈利\n",
    "df_rfm['ProfitType'] = (df_rfm.Profit>0)\n",
    "\n",
    "#查看每个客户种类，盈利情况的人数\n",
    "df_ProfitCnt = df_rfm.groupby(['CustomerType','ProfitType']).size().reset_index(name='ProfitCnt')"
   ]
  },
  {
   "cell_type": "code",
   "execution_count": 39,
   "id": "c7c6a38a",
   "metadata": {},
   "outputs": [
    {
     "data": {
      "text/html": [
       "<div>\n",
       "<style scoped>\n",
       "    .dataframe tbody tr th:only-of-type {\n",
       "        vertical-align: middle;\n",
       "    }\n",
       "\n",
       "    .dataframe tbody tr th {\n",
       "        vertical-align: top;\n",
       "    }\n",
       "\n",
       "    .dataframe thead th {\n",
       "        text-align: right;\n",
       "    }\n",
       "</style>\n",
       "<table border=\"1\" class=\"dataframe\">\n",
       "  <thead>\n",
       "    <tr style=\"text-align: right;\">\n",
       "      <th></th>\n",
       "      <th>CustomerType</th>\n",
       "      <th>ProfitType</th>\n",
       "      <th>ProfitCnt</th>\n",
       "    </tr>\n",
       "  </thead>\n",
       "  <tbody>\n",
       "    <tr>\n",
       "      <th>0</th>\n",
       "      <td>一般客户</td>\n",
       "      <td>False</td>\n",
       "      <td>87</td>\n",
       "    </tr>\n",
       "    <tr>\n",
       "      <th>1</th>\n",
       "      <td>一般客户</td>\n",
       "      <td>True</td>\n",
       "      <td>309</td>\n",
       "    </tr>\n",
       "    <tr>\n",
       "      <th>2</th>\n",
       "      <td>重要价值客户</td>\n",
       "      <td>False</td>\n",
       "      <td>32</td>\n",
       "    </tr>\n",
       "    <tr>\n",
       "      <th>3</th>\n",
       "      <td>重要价值客户</td>\n",
       "      <td>True</td>\n",
       "      <td>147</td>\n",
       "    </tr>\n",
       "    <tr>\n",
       "      <th>4</th>\n",
       "      <td>重要保持客户</td>\n",
       "      <td>False</td>\n",
       "      <td>16</td>\n",
       "    </tr>\n",
       "    <tr>\n",
       "      <th>5</th>\n",
       "      <td>重要保持客户</td>\n",
       "      <td>True</td>\n",
       "      <td>99</td>\n",
       "    </tr>\n",
       "    <tr>\n",
       "      <th>6</th>\n",
       "      <td>重要发展客户</td>\n",
       "      <td>False</td>\n",
       "      <td>9</td>\n",
       "    </tr>\n",
       "    <tr>\n",
       "      <th>7</th>\n",
       "      <td>重要发展客户</td>\n",
       "      <td>True</td>\n",
       "      <td>42</td>\n",
       "    </tr>\n",
       "    <tr>\n",
       "      <th>8</th>\n",
       "      <td>重要挽留客户</td>\n",
       "      <td>False</td>\n",
       "      <td>11</td>\n",
       "    </tr>\n",
       "    <tr>\n",
       "      <th>9</th>\n",
       "      <td>重要挽留客户</td>\n",
       "      <td>True</td>\n",
       "      <td>41</td>\n",
       "    </tr>\n",
       "  </tbody>\n",
       "</table>\n",
       "</div>"
      ],
      "text/plain": [
       "  CustomerType  ProfitType  ProfitCnt\n",
       "0         一般客户       False         87\n",
       "1         一般客户        True        309\n",
       "2       重要价值客户       False         32\n",
       "3       重要价值客户        True        147\n",
       "4       重要保持客户       False         16\n",
       "5       重要保持客户        True         99\n",
       "6       重要发展客户       False          9\n",
       "7       重要发展客户        True         42\n",
       "8       重要挽留客户       False         11\n",
       "9       重要挽留客户        True         41"
      ]
     },
     "execution_count": 39,
     "metadata": {},
     "output_type": "execute_result"
    }
   ],
   "source": [
    "df_ProfitCnt"
   ]
  },
  {
   "cell_type": "markdown",
   "id": "95b8af52",
   "metadata": {},
   "source": [
    "#### 不同类型客户中获利的用户占比"
   ]
  },
  {
   "cell_type": "code",
   "execution_count": 40,
   "id": "a7bf5f3d",
   "metadata": {},
   "outputs": [],
   "source": [
    "df_ProfitPosCnt = df_ProfitCnt[df_ProfitCnt.ProfitType == True]\n",
    "\n",
    "df_TypeCnt['ProfitCustRate(%)'] = df_ProfitPosCnt.ProfitCnt.values / df_TypeCnt.CustomerNum * 100"
   ]
  },
  {
   "cell_type": "code",
   "execution_count": 41,
   "id": "ee7edb65",
   "metadata": {},
   "outputs": [
    {
     "data": {
      "text/html": [
       "<div>\n",
       "<style scoped>\n",
       "    .dataframe tbody tr th:only-of-type {\n",
       "        vertical-align: middle;\n",
       "    }\n",
       "\n",
       "    .dataframe tbody tr th {\n",
       "        vertical-align: top;\n",
       "    }\n",
       "\n",
       "    .dataframe thead th {\n",
       "        text-align: right;\n",
       "    }\n",
       "</style>\n",
       "<table border=\"1\" class=\"dataframe\">\n",
       "  <thead>\n",
       "    <tr style=\"text-align: right;\">\n",
       "      <th></th>\n",
       "      <th>CustomerType</th>\n",
       "      <th>CustomerNum</th>\n",
       "      <th>ProfitCustRate(%)</th>\n",
       "    </tr>\n",
       "  </thead>\n",
       "  <tbody>\n",
       "    <tr>\n",
       "      <th>0</th>\n",
       "      <td>一般客户</td>\n",
       "      <td>396</td>\n",
       "      <td>78.030303</td>\n",
       "    </tr>\n",
       "    <tr>\n",
       "      <th>1</th>\n",
       "      <td>重要价值客户</td>\n",
       "      <td>179</td>\n",
       "      <td>82.122905</td>\n",
       "    </tr>\n",
       "    <tr>\n",
       "      <th>2</th>\n",
       "      <td>重要保持客户</td>\n",
       "      <td>115</td>\n",
       "      <td>86.086957</td>\n",
       "    </tr>\n",
       "    <tr>\n",
       "      <th>3</th>\n",
       "      <td>重要发展客户</td>\n",
       "      <td>51</td>\n",
       "      <td>82.352941</td>\n",
       "    </tr>\n",
       "    <tr>\n",
       "      <th>4</th>\n",
       "      <td>重要挽留客户</td>\n",
       "      <td>52</td>\n",
       "      <td>78.846154</td>\n",
       "    </tr>\n",
       "  </tbody>\n",
       "</table>\n",
       "</div>"
      ],
      "text/plain": [
       "  CustomerType  CustomerNum  ProfitCustRate(%)\n",
       "0         一般客户          396          78.030303\n",
       "1       重要价值客户          179          82.122905\n",
       "2       重要保持客户          115          86.086957\n",
       "3       重要发展客户           51          82.352941\n",
       "4       重要挽留客户           52          78.846154"
      ]
     },
     "execution_count": 41,
     "metadata": {},
     "output_type": "execute_result"
    }
   ],
   "source": [
    "df_TypeCnt"
   ]
  },
  {
   "cell_type": "markdown",
   "id": "4387a1f9",
   "metadata": {},
   "source": [
    "#### 不同类型客户的利润、利润率、人均消费额、人均利润"
   ]
  },
  {
   "cell_type": "code",
   "execution_count": 42,
   "id": "8a7a5b06",
   "metadata": {},
   "outputs": [],
   "source": [
    "#不同类型客户的利润\n",
    "df_Profit = df_rfm.groupby(['CustomerType']).Profit.sum().reset_index(name='ProfitSum')\n",
    "\n",
    "#不同类型客户的利润率（利润率=总利润/总金额）\n",
    "df_Monetary = df_rfm.groupby('CustomerType').Monetary.sum().reset_index(name='Monetary')\n",
    "df_Profit['ProfitRate(%)'] = df_Profit.ProfitSum / df_Monetary.Monetary * 100\n",
    "\n",
    "#不同类型客户的人均消费额\n",
    "df_Profit['MonetaryPerCust'] = df_Monetary.Monetary / df_TypeCnt.CustomerNum\n",
    "\n",
    "#不同类型客户的人均利润\n",
    "df_Profit['ProfitPerCust'] = df_Profit.ProfitSum / df_TypeCnt.CustomerNum"
   ]
  },
  {
   "cell_type": "code",
   "execution_count": 43,
   "id": "6a72f980",
   "metadata": {},
   "outputs": [
    {
     "data": {
      "text/html": [
       "<div>\n",
       "<style scoped>\n",
       "    .dataframe tbody tr th:only-of-type {\n",
       "        vertical-align: middle;\n",
       "    }\n",
       "\n",
       "    .dataframe tbody tr th {\n",
       "        vertical-align: top;\n",
       "    }\n",
       "\n",
       "    .dataframe thead th {\n",
       "        text-align: right;\n",
       "    }\n",
       "</style>\n",
       "<table border=\"1\" class=\"dataframe\">\n",
       "  <thead>\n",
       "    <tr style=\"text-align: right;\">\n",
       "      <th></th>\n",
       "      <th>CustomerType</th>\n",
       "      <th>ProfitSum</th>\n",
       "      <th>ProfitRate(%)</th>\n",
       "      <th>MonetaryPerCust</th>\n",
       "      <th>ProfitPerCust</th>\n",
       "    </tr>\n",
       "  </thead>\n",
       "  <tbody>\n",
       "    <tr>\n",
       "      <th>0</th>\n",
       "      <td>一般客户</td>\n",
       "      <td>45615.9372</td>\n",
       "      <td>10.006471</td>\n",
       "      <td>1151.172719</td>\n",
       "      <td>115.191761</td>\n",
       "    </tr>\n",
       "    <tr>\n",
       "      <th>1</th>\n",
       "      <td>重要价值客户</td>\n",
       "      <td>95770.4661</td>\n",
       "      <td>11.724191</td>\n",
       "      <td>4563.475078</td>\n",
       "      <td>535.030537</td>\n",
       "    </tr>\n",
       "    <tr>\n",
       "      <th>2</th>\n",
       "      <td>重要保持客户</td>\n",
       "      <td>85341.7552</td>\n",
       "      <td>15.259841</td>\n",
       "      <td>4863.105722</td>\n",
       "      <td>742.102219</td>\n",
       "    </tr>\n",
       "    <tr>\n",
       "      <th>3</th>\n",
       "      <td>重要发展客户</td>\n",
       "      <td>30303.5112</td>\n",
       "      <td>12.836113</td>\n",
       "      <td>4629.021824</td>\n",
       "      <td>594.186494</td>\n",
       "    </tr>\n",
       "    <tr>\n",
       "      <th>4</th>\n",
       "      <td>重要挽留客户</td>\n",
       "      <td>29365.3520</td>\n",
       "      <td>12.815622</td>\n",
       "      <td>4406.483719</td>\n",
       "      <td>564.718308</td>\n",
       "    </tr>\n",
       "  </tbody>\n",
       "</table>\n",
       "</div>"
      ],
      "text/plain": [
       "  CustomerType   ProfitSum  ProfitRate(%)  MonetaryPerCust  ProfitPerCust\n",
       "0         一般客户  45615.9372      10.006471      1151.172719     115.191761\n",
       "1       重要价值客户  95770.4661      11.724191      4563.475078     535.030537\n",
       "2       重要保持客户  85341.7552      15.259841      4863.105722     742.102219\n",
       "3       重要发展客户  30303.5112      12.836113      4629.021824     594.186494\n",
       "4       重要挽留客户  29365.3520      12.815622      4406.483719     564.718308"
      ]
     },
     "execution_count": 43,
     "metadata": {},
     "output_type": "execute_result"
    }
   ],
   "source": [
    "df_Profit"
   ]
  },
  {
   "cell_type": "markdown",
   "id": "eff3b6cb",
   "metadata": {},
   "source": [
    "### RFM模型分析可视化"
   ]
  },
  {
   "cell_type": "markdown",
   "id": "2605ea40",
   "metadata": {},
   "source": [
    "#### 不同客户类型R/F/M的分布情况"
   ]
  },
  {
   "cell_type": "code",
   "execution_count": 64,
   "id": "be39ed25",
   "metadata": {},
   "outputs": [
    {
     "data": {
      "image/png": "[encoded data removed]",
      "text/plain": [
       "<Figure size 645.6x540 with 12 Axes>"
      ]
     },
     "metadata": {},
     "output_type": "display_data"
    }
   ],
   "source": [
    "#让中文在sns中不乱码\n",
    "font = FontProperties(fname='SimHei.ttf')\n",
    "\n",
    "fig1 = sns.pairplot(df_rfm,\n",
    "            hue='CustomerType',\n",
    "            x_vars=['Recency','Frequency','Monetary'],\n",
    "            y_vars=['Recency','Frequency','Monetary'],\n",
    "            markers=['o','s', 'P','p','D'])\n",
    "\n",
    "plt.show(fig1)"
   ]
  },
  {
   "cell_type": "markdown",
   "id": "1fc626b2",
   "metadata": {},
   "source": [
    "#### 不同类型客户数量分布"
   ]
  },
  {
   "cell_type": "code",
   "execution_count": 68,
   "id": "ee01ada2",
   "metadata": {},
   "outputs": [
    {
     "data": {
      "image/png": "[encoded data removed]",
      "text/plain": [
       "<Figure size 1600x900 with 1 Axes>"
      ]
     },
     "metadata": {},
     "output_type": "display_data"
    }
   ],
   "source": [
    "fig2 = plt.figure(1,\n",
    "                 figsize=(16,9),\n",
    "                 dpi=100)\n",
    "ax2_1 = fig2.add_subplot(111)\n",
    "\n",
    "sns.countplot(y='CustomerType',\n",
    "             order=df_rfm['CustomerType'].value_counts(ascending=False).index,\n",
    "              data=df_rfm,\n",
    "              palette='Blues')\n",
    "\n",
    "ax2_1.set_title('不同类型的客户总数',fontsize=20)\n",
    "ax2_1.set_xlabel('')\n",
    "ax2_1.set_ylabel('')\n",
    "\n",
    "num_by_type=list(df_rfm.groupby('CustomerType').size())\n",
    "num_by_type=sorted(num_by_type,reverse=True)\n",
    "\n",
    "for x,y in enumerate(num_by_type):\n",
    "    ax2_1.text(y+0.2,x,'%s' %y,va='center',size=12)"
   ]
  },
  {
   "cell_type": "markdown",
   "id": "0ec96cb1",
   "metadata": {},
   "source": [
    "#### 不同类型客户的创立情况可视化"
   ]
  },
  {
   "cell_type": "code",
   "execution_count": 70,
   "id": "e533a06f",
   "metadata": {},
   "outputs": [
    {
     "data": {
      "image/png": "[encoded data removed]",
      "text/plain": [
       "<Figure size 1600x900 with 3 Axes>"
      ]
     },
     "metadata": {},
     "output_type": "display_data"
    }
   ],
   "source": [
    "fig3 = plt.figure(2,figsize=(16,9),dpi=100)\n",
    "\n",
    "ax3_1 = fig3.add_subplot(131)\n",
    "labels=df_rfm.groupby('CustomerType').CustomerType.size().index\n",
    "customer_num=df_rfm.groupby('CustomerType').CustomerType.size()\n",
    "explode=[0.05,0,0,0,0]\n",
    "ax3_1.pie(customer_num,explode=explode,labels=labels,textprops={'fontsize':12},shadow=False,autopct='%.2f%%')\n",
    "ax3_1.axis('equal')\n",
    "ax3_1.set_title('不同类型的客户数量占比',fontsize=20)\n",
    "\n",
    "ax3_2 = fig3.add_subplot(132)\n",
    "Monetary_sum=df_rfm.groupby('CustomerType').Monetary.sum()\n",
    "explode=[0,0.05,0,0,0]\n",
    "ax3_2.pie(Monetary_sum,explode=explode,labels=labels,textprops={'fontsize':12},shadow=False,autopct='%.2f%%')\n",
    "ax3_2.axis('equal')\n",
    "ax3_2.set_title('不同类型的客户销售额占比',fontsize=20)\n",
    "\n",
    "ax3_3 = fig3.add_subplot(133)\n",
    "Porfit_sum=df_rfm.groupby('CustomerType').Profit.sum()\n",
    "explode=[0,0.05,0,0,0]\n",
    "ax3_3.pie(Porfit_sum,explode=explode,labels=labels,textprops={'fontsize':12},shadow=False,autopct='%.2f%%')\n",
    "ax3_3.axis('equal')\n",
    "ax3_3.set_title('不同类型的客户利润占比',fontsize=20)\n",
    "\n",
    "plt.show(fig3)"
   ]
  },
  {
   "cell_type": "markdown",
   "id": "7a0db8da",
   "metadata": {},
   "source": [
    "## 同期群分析 Cohort Analysis"
   ]
  },
  {
   "cell_type": "markdown",
   "id": "32e170f4",
   "metadata": {},
   "source": [
    "同期群分析(Cohort Analysis，亦称群组分析），其主要目的是分析相似群体的行为随时间的变化（比如用户商品的回购、对产品/服务的使用等）\n",
    "\n",
    "1.主要包括两种形式\n",
    "\n",
    "初始行为：如“首次使用App”、“成功注册”或“第一次产生购买行为”等；\n",
    "留存行为：可以是用户的任何行为，如产生购买、使用App、分享等；\n",
    "2.分析过程\n",
    "\n",
    "通过将用户按初始行为的发生时间分组（得到同期群），然后再统计初始行为时间后不同时段内留存行为的发生频次。\n",
    "3.作用和应用场合\n",
    "\n",
    "同期群分析使我们能够观察处于生命周期不同阶段客户的行为。适用于营收、用户留存/流失、分享传播等我们关注的数据指标。"
   ]
  },
  {
   "cell_type": "code",
   "execution_count": 73,
   "id": "30f8fdae",
   "metadata": {},
   "outputs": [],
   "source": [
    "#将每年分为上下两个半年作为周期\n",
    "df_c = df_F.copy()\n",
    "\n",
    "# 分别定义时间节点，作为每个周期的起始\n",
    "time_nodes = pd.to_datetime(['2014-12-31',\n",
    "                             '2015-06-30',\n",
    "                             '2015-12-31',\n",
    "                             '2016-06-30',\n",
    "                             '2016-12-31',\n",
    "                             '2017-06-30',\n",
    "                             '2017-12-31',\n",
    "                             '2018-06-30',\n",
    "                             '2018-12-31'])\n",
    "\n",
    "# 每个周期以固定格式为标识，例如2015H1表示2015第一个半年\n",
    "label = ['2015H1','2015H2','2016H1','2016H2','2017H1','2017H2','2018H1','2018H2']"
   ]
  },
  {
   "cell_type": "code",
   "execution_count": 82,
   "id": "63b763f6",
   "metadata": {},
   "outputs": [
    {
     "name": "stdout",
     "output_type": "stream",
     "text": [
      "2015H1去重前下单客户数量 332\n",
      "2015H1去重后下单客户数量 281\n",
      "2015H2去重前下单客户数量 637\n",
      "2015H2去重后下单客户数量 456\n",
      "2016H1去重前下单客户数量 358\n",
      "2016H1去重后下单客户数量 293\n",
      "2016H2去重前下单客户数量 680\n",
      "2016H2去重后下单客户数量 455\n",
      "2017H1去重前下单客户数量 473\n",
      "2017H1去重后下单客户数量 352\n",
      "2017H2去重前下单客户数量 842\n",
      "2017H2去重后下单客户数量 517\n",
      "2018H1去重前下单客户数量 607\n",
      "2018H1去重后下单客户数量 436\n",
      "2018H2去重前下单客户数量 1080\n",
      "2018H2去重后下单客户数量 594\n"
     ]
    }
   ],
   "source": [
    "# 保存每个周期内不同订单对应的客户ID，有重复值和unique的分别用两个lists去装\n",
    "customer_lst = []\n",
    "customer_lst_u = []\n",
    "\n",
    "#每个周期的客户放在一个list中插入到上面表格中\n",
    "for i in range(8):\n",
    "    customer_half_year = df_c.loc[(df_c.OrderDate>time_nodes[i])&(df_c.OrderDate<=time_nodes[i+1]),:].CustomerID\n",
    "    u_customer_half_year = list(set(customer_half_year))\n",
    "    print(label[i]+'去重前下单客户数量', len(customer_half_year))\n",
    "    print(label[i]+'去重后下单客户数量', len(u_customer_half_year))\n",
    "    customer_lst.extend(customer_half_year)\n",
    "    customer_lst_u.append(u_customer_half_year)"
   ]
  },
  {
   "cell_type": "code",
   "execution_count": 92,
   "id": "0ef89aad",
   "metadata": {},
   "outputs": [
    {
     "name": "stdout",
     "output_type": "stream",
     "text": [
      "2015H2：新增客户数量为314，复购率依次为： [0.373, 0.589, 0.452, 0.659, 0.545, 0.752]\n",
      "2016H1：新增客户数量为68，复购率依次为： [0.544, 0.426, 0.676, 0.588, 0.735]\n",
      "2016H2：新增客户数量为68，复购率依次为： [0.324, 0.603, 0.574, 0.721]\n",
      "2017H1：新增客户数量为36，复购率依次为： [0.667, 0.583, 0.861]\n",
      "2017H2：新增客户数量为15，复购率依次为： [0.4, 0.8]\n",
      "2018H1：新增客户数量为5，复购率依次为： [0.6]\n"
     ]
    }
   ],
   "source": [
    "#同期群分析：\n",
    "for i, customer_list_half_year in enumerate(customer_lst_u):\n",
    "    \n",
    "    if i>0 and i<7:\n",
    "        \n",
    "        #保存过去所有时间内去重后的客户ID\n",
    "        last_list = []\n",
    "        #保存以后每个半年回购的客户人数\n",
    "        retain_list = []  \n",
    "        \n",
    "        for j in range(0,i):\n",
    "            last_list.extend(customer_lst_u[j])\n",
    "        last_list = list(set(last_list))\n",
    "        new_list = [cust for cust in customer_list_half_year if cust not in last_list]  #  保存当前周期新增客户ID\n",
    "        \n",
    "        for k in range(i+1,8):\n",
    "            retain_list.append(len([cust for cust in customer_lst_u[k] if cust in new_list]))\n",
    "        \n",
    "        print(label[i]+'：新增客户数量为'+str(len(new_list))+'，复购率依次为：',[round(i/len(new_list), 3) for i in retain_list])"
   ]
  },
  {
   "cell_type": "markdown",
   "id": "33b28e6d",
   "metadata": {},
   "source": [
    "## 总结"
   ]
  },
  {
   "cell_type": "markdown",
   "id": "9e67ada1",
   "metadata": {},
   "source": [
    "* 根据RFM模型分析，我们观察到：\n",
    "    * 重要价值客户占全体用户的22.57%，只带来了35.56%的销售额，在销售额/利润增长上仍有进步空间。对于这类用户，电商平台可以适度推送高利润兴趣品类，同时利用VIP服务，loyalty program等来延长此类用户的忠诚时间。\n",
    "    * 重要保持客户是利润率最高的用户，达到15.26%。但这部分用户在缓缓流失，我们后期可以在同期群分析中查看这部分用户流失的时间点是否有共同点。从促活角度看，我们可以通过增大折扣、增加忠诚机制、弹窗提醒和增加入住商家来达到保持此类用户的目的目的。\n",
    "    * 除了上面这些比较重要的观察，其他的群体可以使用对应手段进行精细化运营。\n",
    "* 根据同期群分析，我们观察到：\n",
    "    * 近万条数据中只有5个人是在2018年上半年新增的，且每个时间段的新增下单客户数量越来越低，说明了平台的拉新和促活做的十分不到位。从拉新角度看，平台可以后期可以通过线上线下广告投放和平台外多渠道引流的方式拉新。\n",
    "    * 我们还可以看到平台从第二个半年开始新增下单数已经有很大落差。如果想要从根本上解决问题：后期可以进行未用过产品的用户访谈，问卷调查、ab测试等来查看平台是否有某些行为让用户方案的，来判断是否需要rebranding、增删功能等动作。\n",
    "    * 同时，2018年的下半年中复购率比较高，那么我可以观察平台的什么动作让客户的复购率变高，以复盘借鉴。"
   ]
  }
 ],
 "metadata": {
  "kernelspec": {
   "display_name": "Python 3 (ipykernel)",
   "language": "python",
   "name": "python3"
  },
  "language_info": {
   "codemirror_mode": {
    "name": "ipython",
    "version": 3
   },
   "file_extension": ".py",
   "mimetype": "text/x-python",
   "name": "python",
   "nbconvert_exporter": "python",
   "pygments_lexer": "ipython3",
   "version": "3.9.7"
  }
 },
 "nbformat": 4,
 "nbformat_minor": 5
}
